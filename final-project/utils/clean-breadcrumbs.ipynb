{
 "cells": [
  {
   "cell_type": "code",
   "execution_count": 13,
   "metadata": {},
   "outputs": [
    {
     "name": "stdout",
     "output_type": "stream",
     "text": [
      "Using matplotlib backend: Qt5Agg\n"
     ]
    }
   ],
   "source": [
    "import os\n",
    "import csv\n",
    "import pandas as pd\n",
    "import numpy as np\n",
    "import matplotlib.pyplot as plt\n",
    "%matplotlib"
   ]
  },
  {
   "cell_type": "markdown",
   "metadata": {},
   "source": [
    "### Goals:\n"
   ]
  },
  {
   "cell_type": "code",
   "execution_count": 29,
   "metadata": {
    "collapsed": true
   },
   "outputs": [],
   "source": [
    "BREADCRUMB_DIR = '/home/kyle/datasets/tktrips/raw-data/breadcrumbs/'\n",
    "DATA_DIR = '/home/kyle/datasets/tktrips/raw-data/jan22-datapull/'\n",
    "DATA_OUT = '/home/kyle/datasets/tktrips/deadheading/'"
   ]
  },
  {
   "cell_type": "code",
   "execution_count": 51,
   "metadata": {},
   "outputs": [],
   "source": [
    "# concatenate the breadcrumb csvs into one DF, did sanity check for multiple header writes\n",
    "all_files = [BREADCRUMB_DIR + f for f in os.listdir(BREADCRUMB_DIR)]\n",
    "breadcrumbs = pd.concat((pd.read_csv(f, engine='python') for f in all_files))"
   ]
  },
  {
   "cell_type": "code",
   "execution_count": 58,
   "metadata": {},
   "outputs": [],
   "source": [
    "#sort breadcrumbs by trip then timestamp\n",
    "breadcrumbs.sort_values(['trip_id', 'timestamp'], ascending=[True, True], inplace=True)\n",
    "breadcrumbs.reset_index(drop=True, inplace=True)"
   ]
  },
  {
   "cell_type": "code",
   "execution_count": 63,
   "metadata": {
    "collapsed": true
   },
   "outputs": [],
   "source": [
    "test_duplicate_latlong_idxs = []\n",
    "def mark_dup_geocodes(row):\n",
    "    \"\"\"Input: row. Output: row index to mark for del\"\"\"\n",
    "    idx = row.name\n",
    "    if idx == 0:\n",
    "        return\n",
    "    \n",
    "#     prev_row = test_bc.iloc[idx - 1] # uncomment to use for test df\n",
    "    prev_row = breadcrumbs.iloc[idx - 1] #get previous row\n",
    "    \n",
    "    # Compare previous row's lat/long, if same mark new row for del\n",
    "    if row[2] == prev_row[2] and row[3] == prev_row[3]: \n",
    "        duplicate_latlong_idxs.append(idx)\n",
    "        return"
   ]
  },
  {
   "cell_type": "code",
   "execution_count": 64,
   "metadata": {},
   "outputs": [
    {
     "name": "stdout",
     "output_type": "stream",
     "text": [
      "550504\n",
      "CPU times: user 2min 43s, sys: 8 ms, total: 2min 43s\n",
      "Wall time: 2min 43s\n"
     ]
    }
   ],
   "source": [
    "%%time\n",
    "# Run through rows and mark the idxs to delete\n",
    "duplicate_latlong_idxs = []\n",
    "breadcrumbs.apply(mark_dup_geocodes, axis=1)\n",
    "print(len(duplicate_latlong_idxs))"
   ]
  },
  {
   "cell_type": "code",
   "execution_count": 65,
   "metadata": {},
   "outputs": [
    {
     "name": "stdout",
     "output_type": "stream",
     "text": [
      "550504\n"
     ]
    }
   ],
   "source": [
    "# Sanity Check\n",
    "# Make sure the list is unique w/ set\n",
    "unique_duplicate_latlong_idxs = set(duplicate_latlong_idxs)\n",
    "print(len(unique_duplicate_latlong_idxs))"
   ]
  },
  {
   "cell_type": "code",
   "execution_count": 66,
   "metadata": {},
   "outputs": [
    {
     "name": "stdout",
     "output_type": "stream",
     "text": [
      "(394436, 5)\n",
      "CPU times: user 180 ms, sys: 20 ms, total: 200 ms\n",
      "Wall time: 206 ms\n"
     ]
    }
   ],
   "source": [
    "%%time\n",
    "# Remove data rom the DF and reset the index\n",
    "cleaned_breadcrumbs = breadcrumbs.drop(breadcrumbs.index[duplicate_latlong_idxs])\n",
    "cleaned_breadcrumbs.reset_index(drop=True, inplace=True)\n",
    "print(cleaned_breadcrumbs.shape)"
   ]
  },
  {
   "cell_type": "code",
   "execution_count": 67,
   "metadata": {},
   "outputs": [
    {
     "name": "stdout",
     "output_type": "stream",
     "text": [
      "Boom!\n"
     ]
    }
   ],
   "source": [
    "#Sanity Check\n",
    "if len(cleaned_breadcrumbs) + len(duplicate_latlong_idxs) == len(breadcrumbs):\n",
    "    print(\"Boom!\")\n",
    "else:\n",
    "    print(\"Damn!\")"
   ]
  },
  {
   "cell_type": "code",
   "execution_count": 69,
   "metadata": {},
   "outputs": [
    {
     "name": "stdout",
     "output_type": "stream",
     "text": [
      "CPU times: user 1.65 s, sys: 52 ms, total: 1.7 s\n",
      "Wall time: 1.72 s\n"
     ]
    }
   ],
   "source": [
    "%%time\n",
    "# Save cleaned breadcrumbs to csv\n",
    "cleaned_breadcrumbs.to_csv(DATA_OUT + \"breadcrumbs.csv\", index=False)"
   ]
  },
  {
   "cell_type": "code",
   "execution_count": null,
   "metadata": {
    "collapsed": true
   },
   "outputs": [],
   "source": []
  },
  {
   "cell_type": "code",
   "execution_count": null,
   "metadata": {
    "collapsed": true
   },
   "outputs": [],
   "source": []
  },
  {
   "cell_type": "code",
   "execution_count": null,
   "metadata": {
    "collapsed": true
   },
   "outputs": [],
   "source": []
  },
  {
   "cell_type": "code",
   "execution_count": null,
   "metadata": {
    "collapsed": true
   },
   "outputs": [],
   "source": []
  },
  {
   "cell_type": "code",
   "execution_count": null,
   "metadata": {
    "collapsed": true
   },
   "outputs": [],
   "source": []
  },
  {
   "cell_type": "code",
   "execution_count": null,
   "metadata": {
    "collapsed": true
   },
   "outputs": [],
   "source": []
  },
  {
   "cell_type": "code",
   "execution_count": null,
   "metadata": {
    "collapsed": true
   },
   "outputs": [],
   "source": []
  }
 ],
 "metadata": {
  "kernelspec": {
   "display_name": "Python 3",
   "language": "python",
   "name": "python3"
  },
  "language_info": {
   "codemirror_mode": {
    "name": "ipython",
    "version": 3
   },
   "file_extension": ".py",
   "mimetype": "text/x-python",
   "name": "python",
   "nbconvert_exporter": "python",
   "pygments_lexer": "ipython3",
   "version": "3.6.1"
  }
 },
 "nbformat": 4,
 "nbformat_minor": 2
}
